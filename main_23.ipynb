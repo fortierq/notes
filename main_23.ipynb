{
 "cells": [
  {
   "cell_type": "code",
   "execution_count": 10,
   "metadata": {},
   "outputs": [
    {
     "name": "stdout",
     "output_type": "stream",
     "text": [
      "The autoreload extension is already loaded. To reload it, use:\n",
      "  %reload_ext autoreload\n"
     ]
    }
   ],
   "source": [
    "%load_ext autoreload\n",
    "%autoreload 2\n",
    "from devoir import Devoir"
   ]
  },
  {
   "cell_type": "code",
   "execution_count": 11,
   "metadata": {},
   "outputs": [
    {
     "name": "stdout",
     "output_type": "stream",
     "text": [
      "Erreur: itc_1 (MPP)\n",
      "Erreur: itc_1 (MP)\n",
      "Erreur: itc_1 (PSI)\n",
      "Erreur: itc_1 (PC)\n"
     ]
    }
   ],
   "source": [
    "d = Devoir(\"23\", \"notes23.xlsx\")\n",
    "# d.mean(\"itc_1 (MPP)\", \n",
    "#     {\"mpp\": 13},\n",
    "#     {\"mpp\" : 2.5}\n",
    "# )\n",
    "# d.mean(\"itc_1 (MP)\", \n",
    "#     {\"mp\": 12},\n",
    "#     {\"mp\" : 3.5}\n",
    "# )\n",
    "# d.mean(\"itc_1 (PSI)\", \n",
    "#     {\"psi\": 12},\n",
    "#     {\"psi\" : 3.5}\n",
    "# )\n",
    "# d.mean(\"itc_1 (PC)\", \n",
    "#     {\"pc\": 12},\n",
    "#     {\"pc\" : 3.5}\n",
    "# )\n",
    "# print(d.df[\"option_1\"].dtypes)\n",
    "d.mean(\"option_1\", \n",
    "    {\"mpp\": 13, \"mp\": 11},\n",
    "    {\"mpp\" : 3.5, \"mp\" : 3.5}\n",
    ")\n",
    "dd = d.anonymize()\n",
    "ds = \"option_1\"\n",
    "classe = \"mp\"\n",
    "# # dc = dd[\"option\"][\"2\"][\"df\"].query(\"classe == 'mpp'\")\n",
    "# print(d.df[ds].query(f\"classe == '{classe}'\")[[\"note\", \"nom\"]])\n",
    "d.df[ds].query(f\"classe == '{classe}'\")[[\"note\"]].to_clipboard(index=False, header=None)  #, \"nom\"]]"
   ]
  },
  {
   "cell_type": "code",
   "execution_count": null,
   "metadata": {},
   "outputs": [],
   "source": [
    "d.df[\"option_1\"]"
   ]
  }
 ],
 "metadata": {
  "kernelspec": {
   "display_name": "Python 3",
   "language": "python",
   "name": "python3"
  },
  "language_info": {
   "codemirror_mode": {
    "name": "ipython",
    "version": 3
   },
   "file_extension": ".py",
   "mimetype": "text/x-python",
   "name": "python",
   "nbconvert_exporter": "python",
   "pygments_lexer": "ipython3",
   "version": "3.9.2"
  },
  "orig_nbformat": 4
 },
 "nbformat": 4,
 "nbformat_minor": 2
}
