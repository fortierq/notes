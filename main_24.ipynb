{
 "cells": [
  {
   "cell_type": "code",
   "execution_count": 1,
   "metadata": {},
   "outputs": [],
   "source": [
    "%load_ext autoreload\n",
    "%autoreload 2\n",
    "from devoir import Devoir"
   ]
  },
  {
   "cell_type": "code",
   "execution_count": null,
   "metadata": {},
   "outputs": [
    {
     "name": "stdout",
     "output_type": "stream",
     "text": [
      "    note             nom\n",
      "id                      \n",
      "36   7.1           Alpou\n",
      "16  12.7         Bampeta\n",
      "15  14.4         Barraut\n",
      "21  11.0    Benferchouli\n",
      "24  15.1         Bennani\n",
      "3   17.0         Berthod\n",
      "33   6.2         Berthod\n",
      "4   17.5        Bertrand\n",
      "9    9.5         Bouchon\n",
      "32  18.2          Cadoux\n",
      "26   9.9    Charra-Petit\n",
      "35  14.6          Cornic\n",
      "30  14.2          Dautry\n",
      "28  15.2        Delcroix\n",
      "11  11.6          Derail\n",
      "38  11.5  Dougnon-Greder\n",
      "0   14.8          Durdan\n",
      "8   10.9           Duval\n",
      "1    8.8         Eddaoui\n",
      "34   9.4   Fokong Lontsi\n",
      "13  12.9          Galloo\n",
      "20  14.4         Guyader\n",
      "39   9.3          Haquin\n",
      "18  14.0         Jacquet\n",
      "10  10.7             Lai\n",
      "27  14.0       Lallement\n",
      "5   12.9         Le Faou\n",
      "14  11.5         Levrard\n",
      "7    8.6   Menoni--Doyen\n",
      "23  11.2          Orsini\n",
      "40  14.5           Oudet\n",
      "12   9.2         Phidias\n",
      "22   8.2          Pierre\n",
      "6   10.3          Péquay\n",
      "19   8.8         Seiller\n",
      "2   11.3         Sghaier\n",
      "29  15.3         Vernoux\n",
      "37  13.9          Vivier\n",
      "31   7.4          Zakkad\n"
     ]
    },
    {
     "name": "stderr",
     "output_type": "stream",
     "text": [
      "/Users/quentinfortier/Documents/cours/notes/devoir.py:19: FutureWarning: A value is trying to be set on a copy of a DataFrame or Series through chained assignment using an inplace method.\n",
      "The behavior will change in pandas 3.0. This inplace method will never work because the intermediate object on which we are setting values always behaves as a copy.\n",
      "\n",
      "For example, when doing 'df[col].method(value, inplace=True)', try using 'df.method({col: value}, inplace=True)' or df[col] = df[col].method(value) instead, to perform the operation inplace on the original object.\n",
      "\n",
      "\n",
      "  df.statut.replace({\"left_only\": \"absent\", \"right_only\": \"inconnu\", \"both\": \"présent\"}, inplace=True)\n",
      "/Users/quentinfortier/Documents/cours/notes/devoir.py:19: FutureWarning: The behavior of Series.replace (and DataFrame.replace) with CategoricalDtype is deprecated. In a future version, replace will only be used for cases that preserve the categories. To change the categories, use ser.cat.rename_categories instead.\n",
      "  df.statut.replace({\"left_only\": \"absent\", \"right_only\": \"inconnu\", \"both\": \"présent\"}, inplace=True)\n",
      "/Users/quentinfortier/Documents/cours/notes/devoir.py:19: FutureWarning: A value is trying to be set on a copy of a DataFrame or Series through chained assignment using an inplace method.\n",
      "The behavior will change in pandas 3.0. This inplace method will never work because the intermediate object on which we are setting values always behaves as a copy.\n",
      "\n",
      "For example, when doing 'df[col].method(value, inplace=True)', try using 'df.method({col: value}, inplace=True)' or df[col] = df[col].method(value) instead, to perform the operation inplace on the original object.\n",
      "\n",
      "\n",
      "  df.statut.replace({\"left_only\": \"absent\", \"right_only\": \"inconnu\", \"both\": \"présent\"}, inplace=True)\n",
      "/Users/quentinfortier/Documents/cours/notes/devoir.py:19: FutureWarning: The behavior of Series.replace (and DataFrame.replace) with CategoricalDtype is deprecated. In a future version, replace will only be used for cases that preserve the categories. To change the categories, use ser.cat.rename_categories instead.\n",
      "  df.statut.replace({\"left_only\": \"absent\", \"right_only\": \"inconnu\", \"both\": \"présent\"}, inplace=True)\n",
      "/Users/quentinfortier/Documents/cours/notes/devoir.py:19: FutureWarning: A value is trying to be set on a copy of a DataFrame or Series through chained assignment using an inplace method.\n",
      "The behavior will change in pandas 3.0. This inplace method will never work because the intermediate object on which we are setting values always behaves as a copy.\n",
      "\n",
      "For example, when doing 'df[col].method(value, inplace=True)', try using 'df.method({col: value}, inplace=True)' or df[col] = df[col].method(value) instead, to perform the operation inplace on the original object.\n",
      "\n",
      "\n",
      "  df.statut.replace({\"left_only\": \"absent\", \"right_only\": \"inconnu\", \"both\": \"présent\"}, inplace=True)\n",
      "/Users/quentinfortier/Documents/cours/notes/devoir.py:19: FutureWarning: The behavior of Series.replace (and DataFrame.replace) with CategoricalDtype is deprecated. In a future version, replace will only be used for cases that preserve the categories. To change the categories, use ser.cat.rename_categories instead.\n",
      "  df.statut.replace({\"left_only\": \"absent\", \"right_only\": \"inconnu\", \"both\": \"présent\"}, inplace=True)\n",
      "/Users/quentinfortier/Documents/cours/notes/devoir.py:19: FutureWarning: A value is trying to be set on a copy of a DataFrame or Series through chained assignment using an inplace method.\n",
      "The behavior will change in pandas 3.0. This inplace method will never work because the intermediate object on which we are setting values always behaves as a copy.\n",
      "\n",
      "For example, when doing 'df[col].method(value, inplace=True)', try using 'df.method({col: value}, inplace=True)' or df[col] = df[col].method(value) instead, to perform the operation inplace on the original object.\n",
      "\n",
      "\n",
      "  df.statut.replace({\"left_only\": \"absent\", \"right_only\": \"inconnu\", \"both\": \"présent\"}, inplace=True)\n",
      "/Users/quentinfortier/Documents/cours/notes/devoir.py:19: FutureWarning: The behavior of Series.replace (and DataFrame.replace) with CategoricalDtype is deprecated. In a future version, replace will only be used for cases that preserve the categories. To change the categories, use ser.cat.rename_categories instead.\n",
      "  df.statut.replace({\"left_only\": \"absent\", \"right_only\": \"inconnu\", \"both\": \"présent\"}, inplace=True)\n",
      "/Users/quentinfortier/Documents/cours/notes/devoir.py:19: FutureWarning: A value is trying to be set on a copy of a DataFrame or Series through chained assignment using an inplace method.\n",
      "The behavior will change in pandas 3.0. This inplace method will never work because the intermediate object on which we are setting values always behaves as a copy.\n",
      "\n",
      "For example, when doing 'df[col].method(value, inplace=True)', try using 'df.method({col: value}, inplace=True)' or df[col] = df[col].method(value) instead, to perform the operation inplace on the original object.\n",
      "\n",
      "\n",
      "  df.statut.replace({\"left_only\": \"absent\", \"right_only\": \"inconnu\", \"both\": \"présent\"}, inplace=True)\n",
      "/Users/quentinfortier/Documents/cours/notes/devoir.py:19: FutureWarning: The behavior of Series.replace (and DataFrame.replace) with CategoricalDtype is deprecated. In a future version, replace will only be used for cases that preserve the categories. To change the categories, use ser.cat.rename_categories instead.\n",
      "  df.statut.replace({\"left_only\": \"absent\", \"right_only\": \"inconnu\", \"both\": \"présent\"}, inplace=True)\n"
     ]
    }
   ],
   "source": [
    "d = Devoir(\"24\", \"notes24.xlsx\")\n",
    "d.mean(\"ds_1\", \n",
    "    {\"mpi\": 11.5},\n",
    "    {\"mpi\" : 3.25}\n",
    ")\n",
    "d.mean(\"ds_2\", \n",
    "    {\"mpi\": 11.5},\n",
    "    {\"mpi\" : 3.25}\n",
    ")\n",
    "d.mean(\"ds_3\", \n",
    "    {\"mpi\": 11.5},\n",
    "    {\"mpi\" : 3.25}\n",
    ")\n",
    "d.mean(\"ds_4\", \n",
    "    {\"mpi\": 11.5},\n",
    "    {\"mpi\" : 3.25}\n",
    ")\n",
    "d.mean(\"ds_5\", \n",
    "    {\"mpi\": 12},\n",
    "    {\"mpi\" : 3}\n",
    ")\n",
    "dd = d.anonymize()\n",
    "ds = \"ds_5\"\n",
    "classe = \"mpi\"\n",
    "# # dc = dd[\"option\"][\"2\"][\"df\"].query(\"classe == 'mpp'\")\n",
    "dc = d.df[ds].query(f\"classe == '{classe}' \")\n",
    "print(dc[[\"note\", \"nom\"]])\n",
    "dc.query(\"etoile == 'non'\")[[\"note\"]].to_clipboard(index=False, header=None)  #, \"nom\"]]"
   ]
  },
  {
   "cell_type": "code",
   "execution_count": null,
   "metadata": {},
   "outputs": [],
   "source": [
    "7.7\n",
    "7.7\n",
    "9.3\n",
    "12.3\n",
    "8.7\n",
    "9.6\n",
    "9.4\n",
    "9.0\n",
    "9.2\n",
    "9.9\n",
    "8.1\n",
    "7.8\n",
    "14.1\n",
    "7.5\n",
    "7.5\n",
    "9.6\n",
    "10.9\n",
    "9.0\n"
   ]
  },
  {
   "cell_type": "code",
   "execution_count": null,
   "metadata": {},
   "outputs": [],
   "source": []
  },
  {
   "cell_type": "code",
   "execution_count": null,
   "metadata": {},
   "outputs": [
    {
     "data": {
      "text/plain": [
       "14.2"
      ]
     },
     "execution_count": 26,
     "metadata": {},
     "output_type": "execute_result"
    }
   ],
   "source": [
    "12.5\n",
    "16.6\n",
    "13.1\n",
    "15.1\n",
    "19.5\n",
    "12.7\n",
    "17.2\n",
    "16.4\n",
    "13.6\n",
    "11.0\n",
    "18.1\n",
    "11.9\n",
    "13.6\n",
    "10.8\n",
    "15.8\n",
    "8.8\n",
    "11.4\n",
    "9.4\n",
    "13.5\n",
    "11.2\n",
    "14.9\n",
    "10.4\n"
   ]
  },
  {
   "cell_type": "code",
   "execution_count": 3,
   "metadata": {},
   "outputs": [],
   "source": [
    "d.df[ds][[\"rang\", \"nom\", \"prenom\", \"note\"]].sort_values(\"note\", ascending=False).to_html(\"ds1.html\", index=False)"
   ]
  },
  {
   "cell_type": "code",
   "execution_count": null,
   "metadata": {},
   "outputs": [],
   "source": []
  }
 ],
 "metadata": {
  "kernelspec": {
   "display_name": "Python 3",
   "language": "python",
   "name": "python3"
  },
  "language_info": {
   "codemirror_mode": {
    "name": "ipython",
    "version": 3
   },
   "file_extension": ".py",
   "mimetype": "text/x-python",
   "name": "python",
   "nbconvert_exporter": "python",
   "pygments_lexer": "ipython3",
   "version": "3.9.6"
  },
  "orig_nbformat": 4
 },
 "nbformat": 4,
 "nbformat_minor": 2
}
