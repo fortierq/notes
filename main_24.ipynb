{
 "cells": [
  {
   "cell_type": "code",
   "execution_count": 1,
   "metadata": {},
   "outputs": [],
   "source": [
    "%load_ext autoreload\n",
    "%autoreload 2\n",
    "from devoir import Devoir"
   ]
  },
  {
   "cell_type": "code",
   "execution_count": null,
   "metadata": {},
   "outputs": [
    {
     "name": "stdout",
     "output_type": "stream",
     "text": [
      "    note             nom\n",
      "id                      \n",
      "36   9.2           Alpou\n",
      "16  10.6         Bampeta\n",
      "15  14.5         Barraut\n",
      "21  10.9    Benferchouli\n",
      "24  15.5         Bennani\n",
      "3   17.2         Berthod\n",
      "33   8.4         Berthod\n",
      "4   15.9        Bertrand\n",
      "9    7.6         Bouchon\n",
      "25   9.8        Bouteyre\n",
      "32  19.7          Cadoux\n",
      "26   9.9    Charra-Petit\n",
      "35  16.2          Cornic\n",
      "30  12.7          Dautry\n",
      "28  13.1        Delcroix\n",
      "11   8.1          Derail\n",
      "38   9.6  Dougnon-Greder\n",
      "0   16.2          Durdan\n",
      "8    9.6           Duval\n",
      "1   10.8         Eddaoui\n",
      "34   6.6   Fokong Lontsi\n",
      "13  14.9          Galloo\n",
      "20  13.2         Guyader\n",
      "39   6.5          Haquin\n",
      "18  11.5         Jacquet\n",
      "10   9.5             Lai\n",
      "27  11.5       Lallement\n",
      "5   12.0         Le Faou\n",
      "14  10.0         Levrard\n",
      "17   4.4          Maurin\n",
      "7   10.5   Menoni--Doyen\n",
      "23  10.8          Orsini\n",
      "40  16.2           Oudet\n",
      "12   8.6         Phidias\n",
      "22  10.0          Pierre\n",
      "6   11.5          Péquay\n",
      "19   8.8         Seiller\n",
      "2   11.7         Sghaier\n",
      "29  14.2         Vernoux\n",
      "37  13.7          Vivier\n",
      "31   9.7          Zakkad\n"
     ]
    },
    {
     "name": "stderr",
     "output_type": "stream",
     "text": [
      "/Users/quentinfortier/Documents/cours/notes/devoir.py:19: FutureWarning: A value is trying to be set on a copy of a DataFrame or Series through chained assignment using an inplace method.\n",
      "The behavior will change in pandas 3.0. This inplace method will never work because the intermediate object on which we are setting values always behaves as a copy.\n",
      "\n",
      "For example, when doing 'df[col].method(value, inplace=True)', try using 'df.method({col: value}, inplace=True)' or df[col] = df[col].method(value) instead, to perform the operation inplace on the original object.\n",
      "\n",
      "\n",
      "  df.statut.replace({\"left_only\": \"absent\", \"right_only\": \"inconnu\", \"both\": \"présent\"}, inplace=True)\n",
      "/Users/quentinfortier/Documents/cours/notes/devoir.py:19: FutureWarning: The behavior of Series.replace (and DataFrame.replace) with CategoricalDtype is deprecated. In a future version, replace will only be used for cases that preserve the categories. To change the categories, use ser.cat.rename_categories instead.\n",
      "  df.statut.replace({\"left_only\": \"absent\", \"right_only\": \"inconnu\", \"both\": \"présent\"}, inplace=True)\n"
     ]
    }
   ],
   "source": [
    "d = Devoir(\"24\", \"notes24.xlsx\")\n",
    "d.mean(\"ds_1\", \n",
    "    {\"mpi\": 11.5},\n",
    "    {\"mpi\" : 3.25}\n",
    ")\n",
    "d.mean(\"ds_2\", \n",
    "    {\"mpi\": 11.5},\n",
    "    {\"mpi\" : 3.25}\n",
    ")\n",
    "dd = d.anonymize()\n",
    "ds = \"ds_2\"\n",
    "classe = \"mpi\"\n",
    "# # dc = dd[\"option\"][\"2\"][\"df\"].query(\"classe == 'mpp'\")\n",
    "dc = d.df[ds].query(f\"classe == '{classe}'\")\n",
    "print(dc[[\"note\", \"nom\"]])\n",
    "dc[[\"note\"]].to_clipboard(index=False, header=None)  #, \"nom\"]]"
   ]
  },
  {
   "cell_type": "code",
   "execution_count": 26,
   "metadata": {},
   "outputs": [
    {
     "data": {
      "text/plain": [
       "14.2"
      ]
     },
     "execution_count": 26,
     "metadata": {},
     "output_type": "execute_result"
    }
   ],
   "source": [
    "14.5\n",
    "15.6\n",
    "17.2\n",
    "15.9\n",
    "9.8\n",
    "19.7\n",
    "10.0\n",
    "16.2\n",
    "8.9\n",
    "13.2\n",
    "9.7\n",
    "16.2\n",
    "14.9\n",
    "11.6\n",
    "12.0\n",
    "12.1\n",
    "10.1\n",
    "10.6\n",
    "10.9\n",
    "16.3\n",
    "11.8\n",
    "14.3\n",
    "13.7\n"
   ]
  },
  {
   "cell_type": "code",
   "execution_count": 3,
   "metadata": {},
   "outputs": [],
   "source": [
    "d.df[ds][[\"rang\", \"nom\", \"prenom\", \"note\"]].sort_values(\"note\", ascending=False).to_html(\"ds1.html\", index=False)"
   ]
  },
  {
   "cell_type": "code",
   "execution_count": null,
   "metadata": {},
   "outputs": [],
   "source": []
  }
 ],
 "metadata": {
  "kernelspec": {
   "display_name": "Python 3",
   "language": "python",
   "name": "python3"
  },
  "language_info": {
   "codemirror_mode": {
    "name": "ipython",
    "version": 3
   },
   "file_extension": ".py",
   "mimetype": "text/x-python",
   "name": "python",
   "nbconvert_exporter": "python",
   "pygments_lexer": "ipython3",
   "version": "3.11.4"
  },
  "orig_nbformat": 4
 },
 "nbformat": 4,
 "nbformat_minor": 2
}
