{
 "cells": [
  {
   "cell_type": "code",
   "execution_count": 2,
   "metadata": {},
   "outputs": [],
   "source": [
    "%load_ext autoreload\n",
    "%autoreload 2\n",
    "from devoir import Devoir"
   ]
  },
  {
   "cell_type": "code",
   "execution_count": 4,
   "metadata": {},
   "outputs": [
    {
     "name": "stdout",
     "output_type": "stream",
     "text": [
      "    note             nom\n",
      "id                      \n",
      "36   6.3           Alpou\n",
      "16  10.5         Bampeta\n",
      "15   9.4         Barraut\n",
      "21   8.5    Benferchouli\n",
      "24  15.8         Bennani\n",
      "3   13.2         Berthod\n",
      "33   9.8         Berthod\n",
      "4   13.2        Bertrand\n",
      "9    7.4         Bouchon\n",
      "32  20.0          Cadoux\n",
      "26  13.0    Charra-Petit\n",
      "35  15.2          Cornic\n",
      "30  18.1          Dautry\n",
      "28  12.8        Delcroix\n",
      "11  11.0          Derail\n",
      "38   9.6  Dougnon-Greder\n",
      "0   14.6          Durdan\n",
      "8   11.9           Duval\n",
      "1    6.6         Eddaoui\n",
      "34   8.6   Fokong Lontsi\n",
      "13  10.5          Galloo\n",
      "20  13.4         Guyader\n",
      "39   7.0          Haquin\n",
      "18  14.6         Jacquet\n",
      "10   9.4             Lai\n",
      "27  12.6       Lallement\n",
      "5   14.8         Le Faou\n",
      "14   9.3         Levrard\n",
      "17   8.0          Maurin\n",
      "7    8.5   Menoni--Doyen\n",
      "23  10.9          Orsini\n",
      "40  12.9           Oudet\n",
      "12  10.3         Phidias\n",
      "22   8.8          Pierre\n",
      "6   11.4          Péquay\n",
      "2   12.7         Sghaier\n",
      "29  16.8         Vernoux\n",
      "37  13.2          Vivier\n",
      "31   7.4          Zakkad\n"
     ]
    },
    {
     "name": "stderr",
     "output_type": "stream",
     "text": [
      "/Users/quentinfortier/Documents/cours/notes/devoir.py:19: FutureWarning: A value is trying to be set on a copy of a DataFrame or Series through chained assignment using an inplace method.\n",
      "The behavior will change in pandas 3.0. This inplace method will never work because the intermediate object on which we are setting values always behaves as a copy.\n",
      "\n",
      "For example, when doing 'df[col].method(value, inplace=True)', try using 'df.method({col: value}, inplace=True)' or df[col] = df[col].method(value) instead, to perform the operation inplace on the original object.\n",
      "\n",
      "\n",
      "  df.statut.replace({\"left_only\": \"absent\", \"right_only\": \"inconnu\", \"both\": \"présent\"}, inplace=True)\n",
      "/Users/quentinfortier/Documents/cours/notes/devoir.py:19: FutureWarning: The behavior of Series.replace (and DataFrame.replace) with CategoricalDtype is deprecated. In a future version, replace will only be used for cases that preserve the categories. To change the categories, use ser.cat.rename_categories instead.\n",
      "  df.statut.replace({\"left_only\": \"absent\", \"right_only\": \"inconnu\", \"both\": \"présent\"}, inplace=True)\n",
      "/Users/quentinfortier/Documents/cours/notes/devoir.py:19: FutureWarning: A value is trying to be set on a copy of a DataFrame or Series through chained assignment using an inplace method.\n",
      "The behavior will change in pandas 3.0. This inplace method will never work because the intermediate object on which we are setting values always behaves as a copy.\n",
      "\n",
      "For example, when doing 'df[col].method(value, inplace=True)', try using 'df.method({col: value}, inplace=True)' or df[col] = df[col].method(value) instead, to perform the operation inplace on the original object.\n",
      "\n",
      "\n",
      "  df.statut.replace({\"left_only\": \"absent\", \"right_only\": \"inconnu\", \"both\": \"présent\"}, inplace=True)\n",
      "/Users/quentinfortier/Documents/cours/notes/devoir.py:19: FutureWarning: The behavior of Series.replace (and DataFrame.replace) with CategoricalDtype is deprecated. In a future version, replace will only be used for cases that preserve the categories. To change the categories, use ser.cat.rename_categories instead.\n",
      "  df.statut.replace({\"left_only\": \"absent\", \"right_only\": \"inconnu\", \"both\": \"présent\"}, inplace=True)\n",
      "/Users/quentinfortier/Documents/cours/notes/devoir.py:19: FutureWarning: A value is trying to be set on a copy of a DataFrame or Series through chained assignment using an inplace method.\n",
      "The behavior will change in pandas 3.0. This inplace method will never work because the intermediate object on which we are setting values always behaves as a copy.\n",
      "\n",
      "For example, when doing 'df[col].method(value, inplace=True)', try using 'df.method({col: value}, inplace=True)' or df[col] = df[col].method(value) instead, to perform the operation inplace on the original object.\n",
      "\n",
      "\n",
      "  df.statut.replace({\"left_only\": \"absent\", \"right_only\": \"inconnu\", \"both\": \"présent\"}, inplace=True)\n",
      "/Users/quentinfortier/Documents/cours/notes/devoir.py:19: FutureWarning: The behavior of Series.replace (and DataFrame.replace) with CategoricalDtype is deprecated. In a future version, replace will only be used for cases that preserve the categories. To change the categories, use ser.cat.rename_categories instead.\n",
      "  df.statut.replace({\"left_only\": \"absent\", \"right_only\": \"inconnu\", \"both\": \"présent\"}, inplace=True)\n"
     ]
    }
   ],
   "source": [
    "d = Devoir(\"24\", \"notes24.xlsx\")\n",
    "d.mean(\"ds_1\", \n",
    "    {\"mpi\": 11.5},\n",
    "    {\"mpi\" : 3.25}\n",
    ")\n",
    "d.mean(\"ds_2\", \n",
    "    {\"mpi\": 11.5},\n",
    "    {\"mpi\" : 3.25}\n",
    ")\n",
    "d.mean(\"ds_3\", \n",
    "    {\"mpi\": 11.5},\n",
    "    {\"mpi\" : 3.25}\n",
    ")\n",
    "dd = d.anonymize()\n",
    "ds = \"ds_3\"\n",
    "classe = \"mpi\"\n",
    "# # dc = dd[\"option\"][\"2\"][\"df\"].query(\"classe == 'mpp'\")\n",
    "dc = d.df[ds].query(f\"classe == '{classe}'\")\n",
    "print(dc[[\"note\", \"nom\"]])\n",
    "dc.query(\"etoile == 'oui'\")[[\"note\"]].to_clipboard(index=False, header=None)  #, \"nom\"]]"
   ]
  },
  {
   "cell_type": "code",
   "execution_count": null,
   "metadata": {},
   "outputs": [
    {
     "data": {
      "text/plain": [
       "14.2"
      ]
     },
     "execution_count": 26,
     "metadata": {},
     "output_type": "execute_result"
    }
   ],
   "source": [
    "12.5\n",
    "16.6\n",
    "13.1\n",
    "15.1\n",
    "19.5\n",
    "12.7\n",
    "17.2\n",
    "16.4\n",
    "13.6\n",
    "11.0\n",
    "18.1\n",
    "11.9\n",
    "13.6\n",
    "10.8\n",
    "15.8\n",
    "8.8\n",
    "11.4\n",
    "9.4\n",
    "13.5\n",
    "11.2\n",
    "14.9\n",
    "10.4\n"
   ]
  },
  {
   "cell_type": "code",
   "execution_count": 3,
   "metadata": {},
   "outputs": [],
   "source": [
    "d.df[ds][[\"rang\", \"nom\", \"prenom\", \"note\"]].sort_values(\"note\", ascending=False).to_html(\"ds1.html\", index=False)"
   ]
  },
  {
   "cell_type": "code",
   "execution_count": null,
   "metadata": {},
   "outputs": [],
   "source": []
  }
 ],
 "metadata": {
  "kernelspec": {
   "display_name": "Python 3",
   "language": "python",
   "name": "python3"
  },
  "language_info": {
   "codemirror_mode": {
    "name": "ipython",
    "version": 3
   },
   "file_extension": ".py",
   "mimetype": "text/x-python",
   "name": "python",
   "nbconvert_exporter": "python",
   "pygments_lexer": "ipython3",
   "version": "3.9.6"
  },
  "orig_nbformat": 4
 },
 "nbformat": 4,
 "nbformat_minor": 2
}
