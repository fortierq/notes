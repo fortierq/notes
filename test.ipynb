{
 "cells": [
  {
   "cell_type": "code",
   "execution_count": 67,
   "metadata": {},
   "outputs": [
    {
     "name": "stdout",
     "output_type": "stream",
     "text": [
      "The autoreload extension is already loaded. To reload it, use:\n",
      "  %reload_ext autoreload\n"
     ]
    }
   ],
   "source": [
    "%load_ext autoreload\n",
    "%autoreload 2\n",
    "import pandas as pd\n",
    "from devoir import Devoir"
   ]
  },
  {
   "cell_type": "code",
   "execution_count": 72,
   "metadata": {},
   "outputs": [],
   "source": [
    "d = Devoir(\"22\", \"notes22.xlsx\")\n",
    "d.mean(\"option2\", \n",
    "    {\"mpp\" : 12, \"mp\": 9},\n",
    "    {\"mpp\" : 2.5, \"mp\": 2.5}\n",
    ")\n",
    "d.anonymize(\"option2\")"
   ]
  },
  {
   "cell_type": "code",
   "execution_count": 69,
   "metadata": {},
   "outputs": [
    {
     "data": {
      "text/html": [
       "<div>\n",
       "<style scoped>\n",
       "    .dataframe tbody tr th:only-of-type {\n",
       "        vertical-align: middle;\n",
       "    }\n",
       "\n",
       "    .dataframe tbody tr th {\n",
       "        vertical-align: top;\n",
       "    }\n",
       "\n",
       "    .dataframe thead th {\n",
       "        text-align: right;\n",
       "    }\n",
       "</style>\n",
       "<table border=\"1\" class=\"dataframe\">\n",
       "  <thead>\n",
       "    <tr style=\"text-align: right;\">\n",
       "      <th></th>\n",
       "      <th>I.1</th>\n",
       "      <th>I.2</th>\n",
       "      <th>I.3</th>\n",
       "      <th>II.1</th>\n",
       "      <th>II.2</th>\n",
       "      <th>II.3</th>\n",
       "      <th>II.4</th>\n",
       "      <th>II.5</th>\n",
       "      <th>II.6</th>\n",
       "      <th>II.7</th>\n",
       "      <th>...</th>\n",
       "      <th>II.18</th>\n",
       "      <th>II.19</th>\n",
       "      <th>II.20</th>\n",
       "      <th>II.21</th>\n",
       "      <th>II.22</th>\n",
       "      <th>II.23</th>\n",
       "      <th>II.24</th>\n",
       "      <th>II.25</th>\n",
       "      <th>II.26</th>\n",
       "      <th>II.27</th>\n",
       "    </tr>\n",
       "  </thead>\n",
       "  <tbody>\n",
       "    <tr>\n",
       "      <th>0</th>\n",
       "      <td>2.0</td>\n",
       "      <td>4.0</td>\n",
       "      <td>3.0</td>\n",
       "      <td>3.0</td>\n",
       "      <td>3.0</td>\n",
       "      <td>1.0</td>\n",
       "      <td>1.0</td>\n",
       "      <td>4.0</td>\n",
       "      <td>2.0</td>\n",
       "      <td>2.0</td>\n",
       "      <td>...</td>\n",
       "      <td>3.0</td>\n",
       "      <td>NaN</td>\n",
       "      <td>1.0</td>\n",
       "      <td>2.0</td>\n",
       "      <td>2.0</td>\n",
       "      <td>1.0</td>\n",
       "      <td>1.0</td>\n",
       "      <td>1.0</td>\n",
       "      <td>1.0</td>\n",
       "      <td>1.0</td>\n",
       "    </tr>\n",
       "  </tbody>\n",
       "</table>\n",
       "<p>1 rows × 30 columns</p>\n",
       "</div>"
      ],
      "text/plain": [
       "   I.1  I.2  I.3  II.1  II.2  II.3  II.4  II.5  II.6  II.7  ...  II.18  II.19  \\\n",
       "0  2.0  4.0  3.0   3.0   3.0   1.0   1.0   4.0   2.0   2.0  ...    3.0    NaN   \n",
       "\n",
       "   II.20  II.21  II.22  II.23  II.24  II.25  II.26  II.27  \n",
       "0    1.0    2.0    2.0    1.0    1.0    1.0    1.0    1.0  \n",
       "\n",
       "[1 rows x 30 columns]"
      ]
     },
     "execution_count": 69,
     "metadata": {},
     "output_type": "execute_result"
    }
   ],
   "source": [
    "d.bareme[\"option2\"].to_frame().T"
   ]
  }
 ],
 "metadata": {
  "kernelspec": {
   "display_name": "Python 3",
   "language": "python",
   "name": "python3"
  },
  "language_info": {
   "codemirror_mode": {
    "name": "ipython",
    "version": 3
   },
   "file_extension": ".py",
   "mimetype": "text/x-python",
   "name": "python",
   "nbconvert_exporter": "python",
   "pygments_lexer": "ipython3",
   "version": "3.9.2"
  },
  "orig_nbformat": 4,
  "vscode": {
   "interpreter": {
    "hash": "31f2aee4e71d21fbe5cf8b01ff0e069b9275f58929596ceb00d14d90e3e16cd6"
   }
  }
 },
 "nbformat": 4,
 "nbformat_minor": 2
}
